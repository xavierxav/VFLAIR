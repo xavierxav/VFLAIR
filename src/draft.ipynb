{
 "cells": [
  {
   "cell_type": "code",
   "execution_count": 1,
   "metadata": {},
   "outputs": [],
   "source": [
    "import torch"
   ]
  },
  {
   "cell_type": "code",
   "execution_count": 2,
   "metadata": {},
   "outputs": [],
   "source": [
    "file_path = 'exp_result/credit/Q1/0/trained_models/parties2_topmodel0_epoch300/NoDefense.pkl'"
   ]
  },
  {
   "cell_type": "code",
   "execution_count": 3,
   "metadata": {},
   "outputs": [],
   "source": [
    "# Load the state_dicts and model names\n",
    "state_dicts, model_names = torch.load(file_path)\n"
   ]
  },
  {
   "cell_type": "code",
   "execution_count": 4,
   "metadata": {},
   "outputs": [
    {
     "data": {
      "text/plain": [
       "OrderedDict([('layer.0.weight',\n",
       "              tensor([[ 0.5821,  0.3297,  0.2780,  0.3937, -0.1493, -0.2038,  0.1406,  0.0057,\n",
       "                       -0.1539,  0.0777,  0.0621,  0.0357],\n",
       "                      [-0.4669, -0.1752, -0.1375, -0.1674,  0.0731,  0.4063, -0.0197, -0.0800,\n",
       "                        0.0418, -0.0604, -0.0403, -0.1888]], device='cuda:0')),\n",
       "             ('layer.0.bias', tensor([ 1.0031, -0.8824], device='cuda:0'))])"
      ]
     },
     "execution_count": 4,
     "metadata": {},
     "output_type": "execute_result"
    }
   ],
   "source": [
    "state_dicts[0]"
   ]
  },
  {
   "cell_type": "code",
   "execution_count": 7,
   "metadata": {},
   "outputs": [],
   "source": [
    "from models.regression import *\n"
   ]
  },
  {
   "cell_type": "code",
   "execution_count": 8,
   "metadata": {},
   "outputs": [],
   "source": [
    "# Instantiate the model with the correct input and output dimensions\n",
    "input_dim = 12  # This should match the shape of your weight tensor\n",
    "output_dim = 2  # This should match the number of biases\n",
    "\n",
    "model = LogisticRegressionModel(input_dim, output_dim)"
   ]
  },
  {
   "cell_type": "code",
   "execution_count": 10,
   "metadata": {},
   "outputs": [],
   "source": [
    "model.layer[0].bias.data = state_dicts[0]['layer.0.bias']\n",
    "model.layer[0].weight.data = state_dicts[0]['layer.0.weight']"
   ]
  },
  {
   "cell_type": "code",
   "execution_count": 12,
   "metadata": {},
   "outputs": [
    {
     "data": {
      "text/plain": [
       "LogisticRegressionModel(\n",
       "  (layer): Sequential(\n",
       "    (0): Linear(in_features=12, out_features=2, bias=True)\n",
       "  )\n",
       ")"
      ]
     },
     "execution_count": 12,
     "metadata": {},
     "output_type": "execute_result"
    }
   ],
   "source": [
    "globals()['LogisticRegressionModel'](input_dim, output_dim)"
   ]
  }
 ],
 "metadata": {
  "kernelspec": {
   "display_name": "VFLAIR",
   "language": "python",
   "name": "python3"
  },
  "language_info": {
   "codemirror_mode": {
    "name": "ipython",
    "version": 3
   },
   "file_extension": ".py",
   "mimetype": "text/x-python",
   "name": "python",
   "nbconvert_exporter": "python",
   "pygments_lexer": "ipython3",
   "version": "3.8.19"
  }
 },
 "nbformat": 4,
 "nbformat_minor": 2
}
